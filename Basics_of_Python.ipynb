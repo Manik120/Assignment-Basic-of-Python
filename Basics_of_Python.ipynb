{
  "nbformat": 4,
  "nbformat_minor": 0,
  "metadata": {
    "colab": {
      "provenance": []
    },
    "kernelspec": {
      "name": "python3",
      "display_name": "Python 3"
    },
    "language_info": {
      "name": "python"
    }
  },
  "cells": [
    {
      "cell_type": "markdown",
      "source": [
        "# Prime Numbers"
      ],
      "metadata": {
        "id": "dH4nq8htjgTt"
      }
    },
    {
      "cell_type": "code",
      "execution_count": 2,
      "metadata": {
        "colab": {
          "base_uri": "https://localhost:8080/"
        },
        "id": "TtEaGBjjjZya",
        "outputId": "96458965-8806-41d4-bf87-c44559545015"
      },
      "outputs": [
        {
          "output_type": "stream",
          "name": "stdout",
          "text": [
            "13 is a prime number\n"
          ]
        }
      ],
      "source": [
        "def is_prime(num):\n",
        "    # Initialize a flag variable\n",
        "    flag = True\n",
        "\n",
        "    # Numbers less than 2 are not prime\n",
        "    if num < 2:\n",
        "        flag = False\n",
        "    else:\n",
        "        # Check for factors from 2 to num-1\n",
        "        for i in range(2, num):\n",
        "            if num % i == 0:\n",
        "                flag = False\n",
        "                break\n",
        "\n",
        "    # Return the result based on the flag variable\n",
        "    return flag\n",
        "\n",
        "# Example usage\n",
        "number = 13\n",
        "if is_prime(number):\n",
        "    print(f\"{number} is a prime number\")\n",
        "else:\n",
        "    print(f\"{number} is not a prime number\")"
      ]
    },
    {
      "cell_type": "markdown",
      "source": [
        "# Product of Random Numbers"
      ],
      "metadata": {
        "id": "f-YNezHZnMRl"
      }
    },
    {
      "cell_type": "code",
      "source": [
        "n1 = int(input(\"Enter First number: \"))\n",
        "n2 = int(input(\"Enter second number: \"))\n",
        "\n",
        "prod = n1 * n2\n",
        "\n",
        "print(\"The product is:\",prod)\n",
        "\n",
        "#After given the number press Enter."
      ],
      "metadata": {
        "id": "8Xza6hAVpQcv",
        "outputId": "4e21390e-0c2d-4aae-dfe4-bf9cdd17624f",
        "colab": {
          "base_uri": "https://localhost:8080/"
        }
      },
      "execution_count": 11,
      "outputs": [
        {
          "output_type": "stream",
          "name": "stdout",
          "text": [
            "Enter First number: 3\n",
            "Enter second number: 4\n",
            "The product is: 12\n"
          ]
        }
      ]
    },
    {
      "cell_type": "markdown",
      "source": [
        "# Squares of Even/Odd Numbers"
      ],
      "metadata": {
        "id": "znmc04gRqlI4"
      }
    },
    {
      "cell_type": "markdown",
      "source": [
        "**Squares of Even Number**"
      ],
      "metadata": {
        "id": "G5-u_F2_tUXk"
      }
    },
    {
      "cell_type": "code",
      "source": [
        "a=100;b=200\n",
        "for i in range(a,b+2):\n",
        "  if i%2==0:\n",
        "    print(i,end=\" \")"
      ],
      "metadata": {
        "id": "kMhyP5T5qr-A",
        "outputId": "3aad1d67-d00c-4532-9aca-1257d0676143",
        "colab": {
          "base_uri": "https://localhost:8080/"
        }
      },
      "execution_count": 16,
      "outputs": [
        {
          "output_type": "stream",
          "name": "stdout",
          "text": [
            "100 102 104 106 108 110 112 114 116 118 120 122 124 126 128 130 132 134 136 138 140 142 144 146 148 150 152 154 156 158 160 162 164 166 168 170 172 174 176 178 180 182 184 186 188 190 192 194 196 198 200 "
          ]
        }
      ]
    },
    {
      "cell_type": "markdown",
      "source": [
        "Squares of Ood Number"
      ],
      "metadata": {
        "id": "c9G4-rQxtax8"
      }
    },
    {
      "cell_type": "code",
      "source": [
        "a=100;b=200\n",
        "for i in range(a,b+1):\n",
        "  if i%2==0:\n",
        "    pass\n",
        "  else:\n",
        "   print(i,end=\" \")\n",
        ""
      ],
      "metadata": {
        "id": "r7tcxccrsZpS",
        "outputId": "f9f64dea-d578-4ef9-e8ef-6f7c391c1d7c",
        "colab": {
          "base_uri": "https://localhost:8080/"
        }
      },
      "execution_count": 42,
      "outputs": [
        {
          "output_type": "stream",
          "name": "stdout",
          "text": [
            "101 103 105 107 109 111 113 115 117 119 121 123 125 127 129 131 133 135 137 139 141 143 145 147 149 151 153 155 157 159 161 163 165 167 169 171 173 175 177 179 181 183 185 187 189 191 193 195 197 199 "
          ]
        }
      ]
    },
    {
      "cell_type": "markdown",
      "source": [
        "# Word counter"
      ],
      "metadata": {
        "id": "vSwelFg-0ked"
      }
    },
    {
      "cell_type": "code",
      "source": [
        "def word_count(str):\n",
        "    counts = dict()\n",
        "    words = str.split()\n",
        "    for word in words:\n",
        "        if word in counts:\n",
        "            counts[word] += 1\n",
        "        else:\n",
        "          counts[word] = 1\n",
        "    return counts\n",
        "print( word_count('write a program to count the number of words in a given text'))"
      ],
      "metadata": {
        "id": "Z94VFE8Ez5BB",
        "outputId": "69052205-7206-4baf-d04e-9b05040234ba",
        "colab": {
          "base_uri": "https://localhost:8080/"
        }
      },
      "execution_count": 45,
      "outputs": [
        {
          "output_type": "stream",
          "name": "stdout",
          "text": [
            "{'write': 1, 'a': 2, 'program': 1, 'to': 1, 'count': 1, 'the': 1, 'number': 1, 'of': 1, 'words': 1, 'in': 1, 'given': 1, 'text': 1}\n"
          ]
        }
      ]
    },
    {
      "cell_type": "markdown",
      "source": [
        "# Check for Palindrome"
      ],
      "metadata": {
        "id": "SBUzIKUmz4pE"
      }
    },
    {
      "cell_type": "code",
      "source": [
        "def isPalindrome(string):\n",
        "    if (string == string[::-1]) :\n",
        "       return \" True\"\n",
        "    else:\n",
        "        return \"False\"\n",
        "\n",
        "\n",
        "string = input (\"Enter Word: \")\n",
        "\n",
        "print(isPalindrome(string))"
      ],
      "metadata": {
        "id": "mhx4l8u81VQU",
        "outputId": "cb58b166-1220-4893-eecf-c3f3edc964d3",
        "colab": {
          "base_uri": "https://localhost:8080/"
        }
      },
      "execution_count": 51,
      "outputs": [
        {
          "output_type": "stream",
          "name": "stdout",
          "text": [
            "Enter Word: dad\n",
            " True\n"
          ]
        }
      ]
    }
  ]
}